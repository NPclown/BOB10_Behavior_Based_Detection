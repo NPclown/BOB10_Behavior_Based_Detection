{
 "cells": [
  {
   "cell_type": "markdown",
   "id": "d5f4d472",
   "metadata": {},
   "source": [
    "### 크롤링한 악성코드 CSV에 있는 API 목록들을 예쁘게 TXT로 저장"
   ]
  },
  {
   "cell_type": "code",
   "execution_count": null,
   "id": "d957d4a4",
   "metadata": {},
   "outputs": [],
   "source": [
    "import csv\n",
    "\n",
    "api_list = []\n",
    "\n",
    "with open(\"test.csv\", \"r\") as f:\n",
    "    reader = csv.reader(f)\n",
    "\n",
    "    for text in reader:\n",
    "        if len(text) == 0:\n",
    "            continue\n",
    "        if text[0] == \"API\":\n",
    "            continue\n",
    "        api_list.append(text[0])\n",
    "    f.close()\n",
    "\n",
    "with open(\"test.txt\", \"w\") as f:\n",
    "    for txt in api_list:\n",
    "        f.write(txt + '\\n')\n",
    "    f.close()"
   ]
  },
  {
   "cell_type": "markdown",
   "id": "172c9b1b",
   "metadata": {},
   "source": [
    "### 분석한 악성코드별 API 중복제거 및 원본 리스트 저장"
   ]
  },
  {
   "cell_type": "code",
   "execution_count": null,
   "id": "e7d8a7e6",
   "metadata": {},
   "outputs": [],
   "source": [
    "# 중복제거된 API\n",
    "api1_overlap = set()\n",
    "api2_overlap = set()\n",
    "api3_overlap = set()\n",
    "\n",
    "# 원본 API 리스트\n",
    "api1_origin = []\n",
    "api2_origin = []\n",
    "api3_origin = []"
   ]
  },
  {
   "cell_type": "code",
   "execution_count": null,
   "id": "d220b63e",
   "metadata": {},
   "outputs": [],
   "source": [
    "with open(\"test1.txt\", \"r\") as f:\n",
    "    lines = f.readlines()\n",
    "    for line in lines:\n",
    "        api1_overlap.add(line)\n",
    "        api1_origin.append(line)\n",
    "        \n",
    "with open(\"test2.txt\", \"r\") as f:\n",
    "    lines = f.readlines()\n",
    "    for line in lines:\n",
    "        api2_overlap.add(line)\n",
    "        api2_origin.append(line)\n",
    "        \n",
    "with open(\"test3.txt\", \"r\") as f:\n",
    "    lines = f.readlines()\n",
    "    for line in lines:\n",
    "        api3_overlap.add(line)\n",
    "        api3_origin.append(line)        "
   ]
  },
  {
   "cell_type": "code",
   "execution_count": null,
   "id": "a07573b5",
   "metadata": {},
   "outputs": [],
   "source": [
    "len(api1_overlap), len(api2_overlap), len(api3_overlap)"
   ]
  },
  {
   "cell_type": "code",
   "execution_count": null,
   "id": "40f5fdd5",
   "metadata": {},
   "outputs": [],
   "source": [
    "len(api1_origin), len(api2_origin), len(api3_origin)"
   ]
  },
  {
   "cell_type": "markdown",
   "id": "6017146a",
   "metadata": {},
   "source": [
    "### 세개 악성코드에서 중복되는 API 추출"
   ]
  },
  {
   "cell_type": "code",
   "execution_count": null,
   "id": "4b2fae14",
   "metadata": {},
   "outputs": [],
   "source": [
    "api_intersection = api1_overlap & api2_overlap & api3_overlap\n",
    "len(api_intersection)"
   ]
  },
  {
   "cell_type": "markdown",
   "id": "50ec569f",
   "metadata": {},
   "source": [
    "### 화이트 리스트 API 추출하기"
   ]
  },
  {
   "cell_type": "code",
   "execution_count": null,
   "id": "efa3c360",
   "metadata": {},
   "outputs": [],
   "source": [
    "api_white = set()\n",
    "with open(\"white.txt\", \"r\") as f:\n",
    "    lines = f.readlines()\n",
    "    for line in lines:\n",
    "        for i in line.split(\", \"):\n",
    "            api_white.add(i)\n",
    "            \n",
    "len(api_white)"
   ]
  },
  {
   "cell_type": "markdown",
   "id": "ba9add49",
   "metadata": {},
   "source": [
    "### 악성코드 API 교집합에서 화이트 리스트 API 제거하기"
   ]
  },
  {
   "cell_type": "code",
   "execution_count": null,
   "id": "208474e5",
   "metadata": {},
   "outputs": [],
   "source": [
    "api_malware = api_intersection - api_white\n",
    "len(api_malware)"
   ]
  },
  {
   "cell_type": "markdown",
   "id": "bea9dc96",
   "metadata": {},
   "source": [
    "### 후킹이 어려운 NTdll API 제거하기"
   ]
  },
  {
   "cell_type": "code",
   "execution_count": null,
   "id": "051b8ef0",
   "metadata": {},
   "outputs": [],
   "source": [
    "api_final = [w for w in api_malware if w[:2]!=\"Nt\"]\n",
    "len(api_final)"
   ]
  },
  {
   "cell_type": "markdown",
   "id": "5de60eaf",
   "metadata": {},
   "source": [
    "### 악성코드 별, 교집합에 해당하는 API 순서 패턴 추출하기"
   ]
  },
  {
   "cell_type": "code",
   "execution_count": null,
   "id": "cfd93a34",
   "metadata": {},
   "outputs": [],
   "source": [
    "api1_inter_order = []\n",
    "api2_inter_order = []\n",
    "api3_inter_order = []"
   ]
  },
  {
   "cell_type": "code",
   "execution_count": null,
   "id": "36441749",
   "metadata": {},
   "outputs": [],
   "source": [
    "# 교집합에 속하는 API들을 순서대로 추출\n",
    "for api in api1_origin:\n",
    "    if api in api_final:\n",
    "        api1_inter_order.append(api)\n",
    "        \n",
    "for api in api2_origin:\n",
    "    if api in api_final:\n",
    "        api2_inter_order.append(api)\n",
    "        \n",
    "for api in api3_origin:\n",
    "    if api in api_final:\n",
    "        api3_inter_order.append(api)"
   ]
  },
  {
   "cell_type": "code",
   "execution_count": null,
   "id": "bf82781a",
   "metadata": {},
   "outputs": [],
   "source": [
    "len(api1_inter_order), len(api2_inter_order), len(api3_inter_order) "
   ]
  },
  {
   "cell_type": "code",
   "execution_count": null,
   "id": "9081aaf8",
   "metadata": {},
   "outputs": [],
   "source": [
    "# 순서를 유지한 채로 중복 제거\n",
    "api1_order = list(dict.fromkeys(api1_inter_order))\n",
    "api2_order = list(dict.fromkeys(api2_inter_order))\n",
    "api3_order = list(dict.fromkeys(api3_inter_order))"
   ]
  },
  {
   "cell_type": "code",
   "execution_count": null,
   "id": "81756b72",
   "metadata": {},
   "outputs": [],
   "source": [
    "len(api1_order), len(api2_order), len(api3_order) "
   ]
  },
  {
   "cell_type": "markdown",
   "id": "55c9d1f7",
   "metadata": {},
   "source": [
    "### api numbering"
   ]
  },
  {
   "cell_type": "code",
   "execution_count": null,
   "id": "e295d9c5",
   "metadata": {},
   "outputs": [],
   "source": [
    "api_numbering = {key:i for i, key in enumerate(api_final)}\n",
    "api_reversing = {i:key for i, key in enumerate(api_final)}"
   ]
  },
  {
   "cell_type": "markdown",
   "id": "aef952a6",
   "metadata": {},
   "source": [
    "### 악성코드 api 핵심 순서 도출"
   ]
  },
  {
   "cell_type": "code",
   "execution_count": null,
   "id": "89de2ffc",
   "metadata": {},
   "outputs": [],
   "source": [
    "print(\"<api1>\")\n",
    "for z in api1_order:\n",
    "    print(api_numbering[z], end=\" => \")\n",
    "print(end=\"\\n\\n\")    \n",
    "\n",
    "print(\"<api2>\")\n",
    "for z in api2_order:\n",
    "    print(api_numbering[z], end=\" => \")\n",
    "print(end=\"\\n\\n\")        \n",
    "    \n",
    "print(\"<api3>\")\n",
    "for z in api3_order:\n",
    "    print(api_numbering[z], end=\" => \")    \n",
    "print(end=\"\\n\\n\")        "
   ]
  },
  {
   "cell_type": "markdown",
   "id": "92550b9e",
   "metadata": {},
   "source": [
    "## 시나리오 패턴 도식화"
   ]
  },
  {
   "cell_type": "markdown",
   "id": "08da0984",
   "metadata": {},
   "source": [
    "해당 논문을 참고하여, api1, api2, api3에 공통적으로 해당하는 api 패턴을 추출하여, 시나리오로 결정하였습니다.\n",
    "\n",
    "논문 링크 : http://index-of.co.uk/Reverse-Engineering/API.pdf"
   ]
  },
  {
   "cell_type": "markdown",
   "id": "24e555ab",
   "metadata": {},
   "source": [
    "두가지 방법으로 패턴 추출을 진행하였고, 그 결과 다음과 같은 결론을 도출하였습니다."
   ]
  },
  {
   "cell_type": "markdown",
   "id": "e3dcf1cc",
   "metadata": {},
   "source": [
    "#### api1\n",
    "\n",
    "31 => 32 => 13 => 24 => 2 => 3 => 7 => 20 => 25 => 8 => 11 => 33 => 30 => 19 => 15 => 26 => 23 => 29 => 10 => 22 => 21 => 18 => 6 => 27 => 28 => 4 => 9 => 17 => 0 => 12 => 5 => 1 => 16 => 14\n",
    "\n",
    "#### api2\n",
    "\n",
    "24 => 32 => 2 => 3 => 7 => 20 => 13 => 25 => 8 => 11 => 33 => 30 => 19 => 15 => 26 => 23 => 29 => 31 => 10 => 22 => 21 => 18 => 6 => 27 => 28 => 4 => 9 => 17 => 0 => 12 => 5 => 1 => 16 => 14\n",
    "\n",
    "#### api3\n",
    "\n",
    "31 => 32 => 13 => 24 => 2 => 3 => 7 => 20 => 25 => 8 => 11 => 33 => 30 => 19 => 15 => 26 => 23 => 29 => 10 => 22 => 21 => 18 => 6 => 27 => 28 => 4 => 9 => 17 => 0 => 12 => 5 => 1 => 16 => 14"
   ]
  },
  {
   "cell_type": "markdown",
   "id": "8592aff4",
   "metadata": {},
   "source": [
    "### 방법 1: 최대한 가장 긴 api 패턴을 추출하자"
   ]
  },
  {
   "cell_type": "markdown",
   "id": "c21ba336",
   "metadata": {},
   "source": [
    "#### api 패턴1 \n",
    "\n",
    "32 => 2 => 3 => 7 => 20 => 25 => 8 => 11 => 33 => 30 => 19 => 15 => 26 => 23 => 29 =>10 => 22 => 21 => 18 => 6 => 27 => 28 => 4 => 9 => 17 => 0 => 12 => 5 => 1 => 16 => 14"
   ]
  },
  {
   "cell_type": "markdown",
   "id": "20a1c361",
   "metadata": {},
   "source": [
    "api 패턴1이 등장할 경우, 해당 프로세스를 **91% (31/34)의 확률**로 키로그 악성코드로 판단하기로 하였다."
   ]
  },
  {
   "cell_type": "markdown",
   "id": "be03d0f3",
   "metadata": {},
   "source": [
    "### 방법 2: 제일 먼저 등장하는 api 패턴을 추출하자."
   ]
  },
  {
   "cell_type": "markdown",
   "id": "ea5e42bd",
   "metadata": {},
   "source": [
    "#### api 패턴1\n",
    "\n",
    "31 = > 10 => 22 => 21 => 18 => 6 => 27 => 28 => 4 => 9 => 17 => 0 => 12 => 5 => 1 => 16 => 14"
   ]
  },
  {
   "cell_type": "markdown",
   "id": "92c3bc69",
   "metadata": {},
   "source": [
    "#### api 패턴2\n",
    "\n",
    "2 => 3 => 7 => 20 => 25 => 8 => 11 => 33 => 30 => 19 => 15 => 26 => 23 => 29"
   ]
  },
  {
   "cell_type": "markdown",
   "id": "ce900e5a",
   "metadata": {},
   "source": [
    "#### api 패턴3\n",
    "\n",
    "32 => 13"
   ]
  },
  {
   "cell_type": "markdown",
   "id": "d9564833",
   "metadata": {},
   "source": [
    "api 패턴1이 등장할 경우, 해당 프로세스를 **50% (17/34)의 확률**로 키로그 악성코드로 판단하기로 하였다.\n",
    "\n",
    "api 패턴2이 등장할 경우, 해당 프로세스를 **41% (14/34)의 확률**로 키로그 악성코드로 판단하기로 하였다.\n",
    "\n",
    "api 패턴3이 등장할 경우, 해당 프로세스를 **5.8% (2/34)의 확률**로 키로그 악성코드로 판단하기로 하였다."
   ]
  },
  {
   "cell_type": "markdown",
   "id": "e07bbc08",
   "metadata": {},
   "source": [
    "### 결론"
   ]
  },
  {
   "cell_type": "markdown",
   "id": "2843845d",
   "metadata": {},
   "source": [
    "확률이 높은 3가지 패턴을 키로그 악성코드 시나리오로 채택하게 되었다."
   ]
  },
  {
   "cell_type": "markdown",
   "id": "f40ad575",
   "metadata": {},
   "source": [
    "#### 시나리오1\n",
    "32 => 2 => 3 => 7 => 20 => 25 => 8 => 11 => 33 => 30 => 19 => 15 => 26 => 23 => 29 =>10 => 22 => 21 => 18 => 6 => 27 => 28 => 4 => 9 => 17 => 0 => 12 => 5 => 1 => 16 => 14\n",
    "\n",
    "#### 시나리오2\n",
    "31 = > 10 => 22 => 21 => 18 => 6 => 27 => 28 => 4 => 9 => 17 => 0 => 12 => 5 => 1 => 16 => 14\n",
    "\n",
    "#### 시나리오3\n",
    "2 => 3 => 7 => 20 => 25 => 8 => 11 => 33 => 30 => 19 => 15 => 26 => 23 => 29"
   ]
  },
  {
   "cell_type": "markdown",
   "id": "aff1c8d3",
   "metadata": {},
   "source": [
    "### 숫자를 문자로 매칭"
   ]
  },
  {
   "cell_type": "code",
   "execution_count": null,
   "id": "5e1f0cd6",
   "metadata": {},
   "outputs": [],
   "source": [
    "scenario1 = \"32 => 2 => 3 => 7 => 20 => 25 => 8 => 11 => 33 => 30 => 19 => 15 => 26 => 23 => 29 => 10 => 22 => 21 => 18 => 6 => 27 => 28 => 4 => 9 => 17 => 0 => 12 => 5 => 1 => 16 => 14\"\n",
    "scenario2 = \"31 => 10 => 22 => 21 => 18 => 6 => 27 => 28 => 4 => 9 => 17 => 0 => 12 => 5 => 1 => 16 => 14\"\n",
    "scenario3 = \"2 => 3 => 7 => 20 => 25 => 8 => 11 => 33 => 30 => 19 => 15 => 26 => 23 => 29\""
   ]
  },
  {
   "cell_type": "code",
   "execution_count": null,
   "id": "700cb06a",
   "metadata": {},
   "outputs": [],
   "source": [
    "print(\"scenario1\", end=\"\\n\\n\")\n",
    "for scenario in scenario1.split(\" => \"):\n",
    "    print(api_reversing[int(scenario)].strip())\n",
    "print()\n",
    "    \n",
    "print(\"scenario2\", end=\"\\n\\n\")\n",
    "for scenario in scenario2.split(\" => \"):\n",
    "    print(api_reversing[int(scenario)].strip())\n",
    "print()\n",
    "\n",
    "print(\"scenario3\", end=\"\\n\\n\")\n",
    "for scenario in scenario3.split(\" => \"):\n",
    "    print(api_reversing[int(scenario)].strip())    \n",
    "print()    "
   ]
  },
  {
   "cell_type": "markdown",
   "id": "3102f96c",
   "metadata": {},
   "source": [
    "## 최종결론"
   ]
  },
  {
   "cell_type": "markdown",
   "id": "a97ed82a",
   "metadata": {},
   "source": [
    "우리는 위와 같은 절차를 통해 3가지의 키로깅 악성코드의 행위기반 시나리오를 작성할 수 있었다."
   ]
  },
  {
   "cell_type": "markdown",
   "id": "f69f99db",
   "metadata": {},
   "source": [
    "#### 시나리오1 (91% 확률로 키로거라고 판단)\n",
    "1. LdrGetDllHandle\n",
    "2. LdrGetProcedureAddress\n",
    "3. RegOpenKeyExW\n",
    "4. RegQueryInfoKeyW\n",
    "5. RegEnumKeyExW\n",
    "6. RegEnumValueW\n",
    "7. RegCloseKey\n",
    "8. RegQueryValueExW\n",
    "9. FindFirstFileExW\n",
    "10. memcpy\n",
    "11. VirtualProtectEx\n",
    "12. GetSystemInfo\n",
    "13. GlobalMemoryStatus\n",
    "14. GetFileVersionInfoSizeW\n",
    "15. GetFileVersionInfoW\n",
    "16. HeapCreate\n",
    "17. IsDebuggerPresent\n",
    "18. CreateThread\n",
    "19. RtlAddVectoredExceptionHandler\n",
    "20. SetUnhandledExceptionFilter\n",
    "21. GlobalMemoryStatusEx\n",
    "22. LsaOpenPolicy\n",
    "23. UrlCanonicalizeW\n",
    "24. StrCmpNICW\n",
    "25. DeviceIoControl\n",
    "26. RegOpenKeyExA\n",
    "27. SHGetFolderPathW\n",
    "28. RegQueryValueExA\n",
    "29. CryptAcquireContextW\n",
    "30. CryptGenRandom\n",
    "31. RegCreateKeyExW"
   ]
  },
  {
   "cell_type": "markdown",
   "id": "6d055dde",
   "metadata": {},
   "source": [
    "#### 시나리오2 (50% 확률로 키로거라고 판단)\n",
    "1. GetSystemTimeAsFileTime\n",
    "2. HeapCreate\n",
    "3. IsDebuggerPresent\n",
    "4. CreateThread\n",
    "5. RtlAddVectoredExceptionHandler\n",
    "6. SetUnhandledExceptionFilter\n",
    "7. GlobalMemoryStatusEx\n",
    "8. LsaOpenPolicy\n",
    "9. UrlCanonicalizeW\n",
    "10. StrCmpNICW\n",
    "11. DeviceIoControl\n",
    "12. RegOpenKeyExA\n",
    "13. SHGetFolderPathW\n",
    "14. RegQueryValueExA\n",
    "15. CryptAcquireContextW\n",
    "16. CryptGenRandom\n",
    "17. RegCreateKeyExW"
   ]
  },
  {
   "cell_type": "markdown",
   "id": "d8cf3713",
   "metadata": {},
   "source": [
    "#### 시나리오3 (41% 확률로 키로거라고 판단)\n",
    "1. LdrGetProcedureAddress\n",
    "2. RegOpenKeyExW\n",
    "3. RegQueryInfoKeyW\n",
    "4. RegEnumKeyExW\n",
    "5. RegEnumValueW\n",
    "6. RegCloseKey\n",
    "7. RegQueryValueExW\n",
    "8. FindFirstFileExW\n",
    "9. memcpy\n",
    "10. VirtualProtectEx\n",
    "11. GetSystemInfo\n",
    "12. GlobalMemoryStatus\n",
    "13. GetFileVersionInfoSizeW\n",
    "14. GetFileVersionInfoW"
   ]
  },
  {
   "cell_type": "markdown",
   "id": "ee512dbf",
   "metadata": {},
   "source": [
    "이러한 시나리오를 기반으로 특정한 API를 후킹하여, 키로거 악성코드를 탐지하는 Dectector 프로그램을 제작하도록 하겠다."
   ]
  }
 ],
 "metadata": {
  "kernelspec": {
   "display_name": "Python 3",
   "language": "python",
   "name": "python3"
  },
  "language_info": {
   "codemirror_mode": {
    "name": "ipython",
    "version": 3
   },
   "file_extension": ".py",
   "mimetype": "text/x-python",
   "name": "python",
   "nbconvert_exporter": "python",
   "pygments_lexer": "ipython3",
   "version": "3.8.8"
  }
 },
 "nbformat": 4,
 "nbformat_minor": 5
}
